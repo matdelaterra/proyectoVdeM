{
 "cells": [
  {
   "cell_type": "code",
   "execution_count": 1,
   "metadata": {},
   "outputs": [],
   "source": [
    "import pandas as pd\n",
    "from funcion import *\n",
    "import matplotlib.pyplot as plt\n",
    "#%matplotlib inline\n",
    "def graficar(orig, df,  xlabel, ylabel, tag = ''):\n",
    "    from pathlib import Path\n",
    "    for i in range(df.shape[0]):#\n",
    "        fig, axes = plt.subplots(figsize=(5,6))\n",
    "        df.iloc[i,:].plot(ax=axes, color=\"red\", lw=1, ls='-', marker='s',  markersize=4)\n",
    "        titulo = str(orig.iloc[i,0])\n",
    "        #plt.show()\n",
    "        axes.set_title(titulo)\n",
    "        axes.set_xlabel(xlabel)\n",
    "        axes.set_ylabel(ylabel, rotation=90)\n",
    "        plt.grid(True)\n",
    "        n_salida = titulo+'_'+tag+'.png'\n",
    "        plt.savefig(Path.cwd()/'salida'/n_salida, dpi=300)\n",
    "        plt.close()"
   ]
  },
  {
   "cell_type": "code",
   "execution_count": 2,
   "metadata": {},
   "outputs": [],
   "source": [
    "nombre = contar_archivo()[0]\n",
    "datos = pd.ExcelFile(nombre)\n",
    "df = datos.parse()\n",
    "df = df.iloc[:,2:13]\n",
    "df.drop(columns = ['slope','C_2000_ast'], inplace=True)"
   ]
  },
  {
   "cell_type": "code",
   "execution_count": 3,
   "metadata": {},
   "outputs": [],
   "source": [
    "#Elevaciones\n",
    "elevaciones = df.iloc[:,3:].copy()\n",
    "#diferencias\n",
    "diferencias = pd.DataFrame()\n",
    "diferencias['dif00'] = df[df.columns[3]]-df[df.columns[3]]\n",
    "diferencias['dif00-05'] = df[df.columns[4]]-df[df.columns[3]]\n",
    "diferencias['dif05-12'] = df[df.columns[5]]-df[df.columns[4]]\n",
    "diferencias['dif12-14'] = df[df.columns[6]]-df[df.columns[5]]\n",
    "diferencias['dif14-17'] = df[df.columns[7]]-df[df.columns[6]]\n",
    "diferencias['dif17-18'] = df[df.columns[8]]-df[df.columns[7]]\n",
    "#hundimientos\n",
    "hundimientos = pd.DataFrame()\n",
    "hundimientos['2000'] = df[df.columns[3]]-df[df.columns[3]]\n",
    "hundimientos['2005'] = df[df.columns[4]]-df[df.columns[3]]\n",
    "hundimientos['2012'] = df[df.columns[5]]-df[df.columns[3]]\n",
    "hundimientos['2014'] = df[df.columns[6]]-df[df.columns[3]]\n",
    "hundimientos['2017'] = df[df.columns[7]]-df[df.columns[3]]\n",
    "hundimientos['2018'] = df[df.columns[8]]-df[df.columns[3]]"
   ]
  },
  {
   "cell_type": "code",
   "execution_count": null,
   "metadata": {},
   "outputs": [],
   "source": [
    "#GRAFICAS\n",
    "#Elevaciones\n",
    "graficar(df, elevaciones,'año','elevacion', 'Elevaciones')\n",
    "#abatimientos\n",
    "graficar(df, hundimientos,'año','elevacion','hundimientos')\n",
    "#Diferencias\n",
    "graficar(df, diferencias, 'año','elevacion', 'Diferencias')"
   ]
  },
  {
   "cell_type": "code",
   "execution_count": 10,
   "metadata": {},
   "outputs": [
    {
     "data": {
      "text/html": [
       "<div>\n",
       "<style scoped>\n",
       "    .dataframe tbody tr th:only-of-type {\n",
       "        vertical-align: middle;\n",
       "    }\n",
       "\n",
       "    .dataframe tbody tr th {\n",
       "        vertical-align: top;\n",
       "    }\n",
       "\n",
       "    .dataframe thead th {\n",
       "        text-align: right;\n",
       "    }\n",
       "</style>\n",
       "<table border=\"1\" class=\"dataframe\">\n",
       "  <thead>\n",
       "    <tr style=\"text-align: right;\">\n",
       "      <th></th>\n",
       "      <th>dif00</th>\n",
       "      <th>dif00-05</th>\n",
       "      <th>dif05-12</th>\n",
       "      <th>dif12-14</th>\n",
       "      <th>dif14-17</th>\n",
       "      <th>dif17-18</th>\n",
       "    </tr>\n",
       "  </thead>\n",
       "  <tbody>\n",
       "    <tr>\n",
       "      <th>0</th>\n",
       "      <td>0</td>\n",
       "      <td>-9</td>\n",
       "      <td>1</td>\n",
       "      <td>-2</td>\n",
       "      <td>-7</td>\n",
       "      <td>3</td>\n",
       "    </tr>\n",
       "    <tr>\n",
       "      <th>1</th>\n",
       "      <td>0</td>\n",
       "      <td>-7</td>\n",
       "      <td>-4</td>\n",
       "      <td>-6</td>\n",
       "      <td>-5</td>\n",
       "      <td>3</td>\n",
       "    </tr>\n",
       "    <tr>\n",
       "      <th>2</th>\n",
       "      <td>0</td>\n",
       "      <td>3</td>\n",
       "      <td>0</td>\n",
       "      <td>-3</td>\n",
       "      <td>-13</td>\n",
       "      <td>10</td>\n",
       "    </tr>\n",
       "    <tr>\n",
       "      <th>3</th>\n",
       "      <td>0</td>\n",
       "      <td>-18</td>\n",
       "      <td>14</td>\n",
       "      <td>-3</td>\n",
       "      <td>2</td>\n",
       "      <td>4</td>\n",
       "    </tr>\n",
       "    <tr>\n",
       "      <th>4</th>\n",
       "      <td>0</td>\n",
       "      <td>-2</td>\n",
       "      <td>-2</td>\n",
       "      <td>4</td>\n",
       "      <td>-6</td>\n",
       "      <td>5</td>\n",
       "    </tr>\n",
       "    <tr>\n",
       "      <th>...</th>\n",
       "      <td>...</td>\n",
       "      <td>...</td>\n",
       "      <td>...</td>\n",
       "      <td>...</td>\n",
       "      <td>...</td>\n",
       "      <td>...</td>\n",
       "    </tr>\n",
       "    <tr>\n",
       "      <th>519</th>\n",
       "      <td>0</td>\n",
       "      <td>4</td>\n",
       "      <td>-9</td>\n",
       "      <td>2</td>\n",
       "      <td>-10</td>\n",
       "      <td>14</td>\n",
       "    </tr>\n",
       "    <tr>\n",
       "      <th>520</th>\n",
       "      <td>0</td>\n",
       "      <td>-8</td>\n",
       "      <td>6</td>\n",
       "      <td>4</td>\n",
       "      <td>-19</td>\n",
       "      <td>10</td>\n",
       "    </tr>\n",
       "    <tr>\n",
       "      <th>521</th>\n",
       "      <td>0</td>\n",
       "      <td>0</td>\n",
       "      <td>0</td>\n",
       "      <td>1</td>\n",
       "      <td>-19</td>\n",
       "      <td>19</td>\n",
       "    </tr>\n",
       "    <tr>\n",
       "      <th>522</th>\n",
       "      <td>0</td>\n",
       "      <td>-8</td>\n",
       "      <td>3</td>\n",
       "      <td>-2</td>\n",
       "      <td>-14</td>\n",
       "      <td>14</td>\n",
       "    </tr>\n",
       "    <tr>\n",
       "      <th>523</th>\n",
       "      <td>0</td>\n",
       "      <td>-4</td>\n",
       "      <td>4</td>\n",
       "      <td>-2</td>\n",
       "      <td>-11</td>\n",
       "      <td>13</td>\n",
       "    </tr>\n",
       "  </tbody>\n",
       "</table>\n",
       "<p>524 rows × 6 columns</p>\n",
       "</div>"
      ],
      "text/plain": [
       "     dif00  dif00-05  dif05-12  dif12-14  dif14-17  dif17-18\n",
       "0        0        -9         1        -2        -7         3\n",
       "1        0        -7        -4        -6        -5         3\n",
       "2        0         3         0        -3       -13        10\n",
       "3        0       -18        14        -3         2         4\n",
       "4        0        -2        -2         4        -6         5\n",
       "..     ...       ...       ...       ...       ...       ...\n",
       "519      0         4        -9         2       -10        14\n",
       "520      0        -8         6         4       -19        10\n",
       "521      0         0         0         1       -19        19\n",
       "522      0        -8         3        -2       -14        14\n",
       "523      0        -4         4        -2       -11        13\n",
       "\n",
       "[524 rows x 6 columns]"
      ]
     },
     "execution_count": 10,
     "metadata": {},
     "output_type": "execute_result"
    }
   ],
   "source": [
    "diferencias"
   ]
  },
  {
   "cell_type": "code",
   "execution_count": 22,
   "metadata": {},
   "outputs": [],
   "source": [
    "dif = dif.iloc[:,:3].copy()\n",
    "dif = dif.join(diferencias)\n",
    "dif.to_excel('diferencias.xlsx', index=False)"
   ]
  },
  {
   "cell_type": "code",
   "execution_count": 59,
   "metadata": {},
   "outputs": [
    {
     "data": {
      "text/plain": [
       "count    6.000000\n",
       "mean     3.666667\n",
       "std      3.559026\n",
       "min      0.000000\n",
       "25%      1.250000\n",
       "50%      2.500000\n",
       "75%      6.000000\n",
       "max      9.000000\n",
       "Name: 0, dtype: float64"
      ]
     },
     "execution_count": 59,
     "metadata": {},
     "output_type": "execute_result"
    }
   ],
   "source": [
    "#Estadísticas de las diferencias, como valores absolutos\n",
    "diferencias.iloc[0,:].abs().describe()"
   ]
  },
  {
   "cell_type": "code",
   "execution_count": 60,
   "metadata": {},
   "outputs": [
    {
     "data": {
      "text/plain": [
       "count    6.000000\n",
       "mean    -2.333333\n",
       "std      4.718757\n",
       "min     -9.000000\n",
       "25%     -5.750000\n",
       "50%     -1.000000\n",
       "75%      0.750000\n",
       "max      3.000000\n",
       "Name: 0, dtype: float64"
      ]
     },
     "execution_count": 60,
     "metadata": {},
     "output_type": "execute_result"
    }
   ],
   "source": [
    "#Estadísticas de las diferencias\n",
    "diferencias.iloc[0,:].describe()"
   ]
  },
  {
   "cell_type": "code",
   "execution_count": null,
   "metadata": {},
   "outputs": [],
   "source": []
  }
 ],
 "metadata": {
  "kernelspec": {
   "display_name": "Python 3",
   "language": "python",
   "name": "python3"
  },
  "language_info": {
   "codemirror_mode": {
    "name": "ipython",
    "version": 3
   },
   "file_extension": ".py",
   "mimetype": "text/x-python",
   "name": "python",
   "nbconvert_exporter": "python",
   "pygments_lexer": "ipython3",
   "version": "3.8.3"
  }
 },
 "nbformat": 4,
 "nbformat_minor": 4
}
