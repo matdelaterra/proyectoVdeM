{
 "cells": [
  {
   "cell_type": "markdown",
   "metadata": {},
   "source": [
    "# Prueba para cargar y manejar datos de nitratos\n"
   ]
  },
  {
   "cell_type": "code",
   "execution_count": 2,
   "metadata": {},
   "outputs": [],
   "source": [
    "import pandas as pd\n",
    "import numpy as np\n",
    "from pathlib import Path\n",
    "import datetime"
   ]
  },
  {
   "cell_type": "code",
   "execution_count": 5,
   "metadata": {},
   "outputs": [
    {
     "data": {
      "text/plain": [
       "['Química_SACMEX 1999_JE.xlsx',\n",
       " 'Química_SACMEX 2002_JE.xlsx',\n",
       " 'Química_SACMEX 2005 nuevoJE.xlsx',\n",
       " 'Química_SACMEX 2008_JE.xlsx',\n",
       " 'Química_SACMEX 2013_JE.xlsx',\n",
       " 'Química_SACMEX 2018_JE.xlsx']"
      ]
     },
     "execution_count": 5,
     "metadata": {},
     "output_type": "execute_result"
    }
   ],
   "source": [
    "ruta = Path.cwd()/'base de datos'\n",
    "files = [arch.name for arch in Path(ruta).iterdir() if arch.is_file()]\n",
    "excel = []\n",
    "for archivo in files:\n",
    "    if archivo.count('xls') != 0:\n",
    "        excel.append(archivo)\n",
    "excel"
   ]
  },
  {
   "cell_type": "markdown",
   "metadata": {},
   "source": [
    "# Inicio"
   ]
  },
  {
   "cell_type": "code",
   "execution_count": 7,
   "metadata": {},
   "outputs": [
    {
     "data": {
      "text/html": [
       "<div>\n",
       "<style scoped>\n",
       "    .dataframe tbody tr th:only-of-type {\n",
       "        vertical-align: middle;\n",
       "    }\n",
       "\n",
       "    .dataframe tbody tr th {\n",
       "        vertical-align: top;\n",
       "    }\n",
       "\n",
       "    .dataframe thead th {\n",
       "        text-align: right;\n",
       "    }\n",
       "</style>\n",
       "<table border=\"1\" class=\"dataframe\">\n",
       "  <thead>\n",
       "    <tr style=\"text-align: right;\">\n",
       "      <th></th>\n",
       "      <th>ALCALDIA</th>\n",
       "      <th>POZO</th>\n",
       "      <th>X</th>\n",
       "      <th>Y</th>\n",
       "      <th>NO3</th>\n",
       "      <th>YR</th>\n",
       "    </tr>\n",
       "  </thead>\n",
       "  <tbody>\n",
       "    <tr>\n",
       "      <th>0</th>\n",
       "      <td>Xochimilco</td>\n",
       "      <td>Nápoles</td>\n",
       "      <td>487743.000000</td>\n",
       "      <td>2.132726e+06</td>\n",
       "      <td>NaN</td>\n",
       "      <td>1999.0</td>\n",
       "    </tr>\n",
       "    <tr>\n",
       "      <th>1</th>\n",
       "      <td>Álvaro Obregón</td>\n",
       "      <td>Tetelpan</td>\n",
       "      <td>475535.000000</td>\n",
       "      <td>2.138416e+06</td>\n",
       "      <td>NaN</td>\n",
       "      <td>1999.0</td>\n",
       "    </tr>\n",
       "    <tr>\n",
       "      <th>2</th>\n",
       "      <td>Tlálpan</td>\n",
       "      <td>Coapa ISSSTE 1</td>\n",
       "      <td>487067.000000</td>\n",
       "      <td>2.133530e+06</td>\n",
       "      <td>NaN</td>\n",
       "      <td>1999.0</td>\n",
       "    </tr>\n",
       "    <tr>\n",
       "      <th>3</th>\n",
       "      <td>Tlálpan</td>\n",
       "      <td>Coapa ISSSTE 2</td>\n",
       "      <td>488738.000000</td>\n",
       "      <td>2.133603e+06</td>\n",
       "      <td>NaN</td>\n",
       "      <td>1999.0</td>\n",
       "    </tr>\n",
       "    <tr>\n",
       "      <th>4</th>\n",
       "      <td>Azcapotzalco</td>\n",
       "      <td>Hogar y Seguridad</td>\n",
       "      <td>482157.000000</td>\n",
       "      <td>2.152446e+06</td>\n",
       "      <td>NaN</td>\n",
       "      <td>1999.0</td>\n",
       "    </tr>\n",
       "    <tr>\n",
       "      <th>...</th>\n",
       "      <td>...</td>\n",
       "      <td>...</td>\n",
       "      <td>...</td>\n",
       "      <td>...</td>\n",
       "      <td>...</td>\n",
       "      <td>...</td>\n",
       "    </tr>\n",
       "    <tr>\n",
       "      <th>1118</th>\n",
       "      <td>Coyoacán</td>\n",
       "      <td>AV. UNIVERSIDAD NUEVO (VIVEROS DE COYOACAN)</td>\n",
       "      <td>482177.942933</td>\n",
       "      <td>2.139737e+06</td>\n",
       "      <td>9.473352</td>\n",
       "      <td>2018.0</td>\n",
       "    </tr>\n",
       "    <tr>\n",
       "      <th>1119</th>\n",
       "      <td>Benito Juárez</td>\n",
       "      <td>DIAGONAL SAN ANTONIO</td>\n",
       "      <td>484193.127194</td>\n",
       "      <td>2.145066e+06</td>\n",
       "      <td>7.481292</td>\n",
       "      <td>2018.0</td>\n",
       "    </tr>\n",
       "    <tr>\n",
       "      <th>1120</th>\n",
       "      <td>Miguel Hidalgo</td>\n",
       "      <td>JARDIN MORELOS</td>\n",
       "      <td>483133.584564</td>\n",
       "      <td>2.140725e+06</td>\n",
       "      <td>6.728736</td>\n",
       "      <td>2018.0</td>\n",
       "    </tr>\n",
       "    <tr>\n",
       "      <th>1121</th>\n",
       "      <td>Alvaro Obregón</td>\n",
       "      <td>OLIVAR DE LOS PADRES</td>\n",
       "      <td>477935.245532</td>\n",
       "      <td>2.138519e+06</td>\n",
       "      <td>10.402980</td>\n",
       "      <td>2018.0</td>\n",
       "    </tr>\n",
       "    <tr>\n",
       "      <th>1122</th>\n",
       "      <td>Iztapalapa</td>\n",
       "      <td>GRANJAS ESTRELLA 2</td>\n",
       "      <td>490346.672617</td>\n",
       "      <td>2.136928e+06</td>\n",
       "      <td>5.356428</td>\n",
       "      <td>2018.0</td>\n",
       "    </tr>\n",
       "  </tbody>\n",
       "</table>\n",
       "<p>1123 rows × 6 columns</p>\n",
       "</div>"
      ],
      "text/plain": [
       "            ALCALDIA                                         POZO  \\\n",
       "0         Xochimilco                                      Nápoles   \n",
       "1     Álvaro Obregón                                     Tetelpan   \n",
       "2            Tlálpan                               Coapa ISSSTE 1   \n",
       "3            Tlálpan                               Coapa ISSSTE 2   \n",
       "4       Azcapotzalco                            Hogar y Seguridad   \n",
       "...              ...                                          ...   \n",
       "1118        Coyoacán  AV. UNIVERSIDAD NUEVO (VIVEROS DE COYOACAN)   \n",
       "1119   Benito Juárez                         DIAGONAL SAN ANTONIO   \n",
       "1120  Miguel Hidalgo                               JARDIN MORELOS   \n",
       "1121  Alvaro Obregón                         OLIVAR DE LOS PADRES   \n",
       "1122      Iztapalapa                           GRANJAS ESTRELLA 2   \n",
       "\n",
       "                  X             Y        NO3      YR  \n",
       "0     487743.000000  2.132726e+06        NaN  1999.0  \n",
       "1     475535.000000  2.138416e+06        NaN  1999.0  \n",
       "2     487067.000000  2.133530e+06        NaN  1999.0  \n",
       "3     488738.000000  2.133603e+06        NaN  1999.0  \n",
       "4     482157.000000  2.152446e+06        NaN  1999.0  \n",
       "...             ...           ...        ...     ...  \n",
       "1118  482177.942933  2.139737e+06   9.473352  2018.0  \n",
       "1119  484193.127194  2.145066e+06   7.481292  2018.0  \n",
       "1120  483133.584564  2.140725e+06   6.728736  2018.0  \n",
       "1121  477935.245532  2.138519e+06  10.402980  2018.0  \n",
       "1122  490346.672617  2.136928e+06   5.356428  2018.0  \n",
       "\n",
       "[1123 rows x 6 columns]"
      ]
     },
     "execution_count": 7,
     "metadata": {},
     "output_type": "execute_result"
    }
   ],
   "source": [
    "ruta = Path.cwd()/'base de datos'\n",
    "files = [arch.name for arch in Path(ruta).iterdir() if arch.is_file()]\n",
    "excel = []\n",
    "for archivo in files:\n",
    "    if archivo.count('xls') != 0:\n",
    "        excel.append(archivo)\n",
    "excel\n",
    "conjunto_db = []\n",
    "for nombre in excel:\n",
    "    df = pd.read_excel(Path.cwd()/'base de datos'/nombre,na_values=0)\n",
    "    df = df[['ALCALDIA','POZO','X','Y','NO3']]\n",
    "    cad = ''\n",
    "    for n in [int(s) for s in nombre if s.isdigit()]:\n",
    "        cad = cad + str(n)\n",
    "    df['YR'] = float(cad)\n",
    "    conjunto_db.append(df)\n",
    "dataframe = pd.concat(conjunto_db, ignore_index=True)\n",
    "\n",
    "dataframe"
   ]
  },
  {
   "cell_type": "code",
   "execution_count": 8,
   "metadata": {},
   "outputs": [],
   "source": [
    "#Fecha\n",
    "dtime = datetime.datetime.now().strftime(\"%A %d %B %Y %I:%M\")"
   ]
  },
  {
   "cell_type": "code",
   "execution_count": null,
   "metadata": {},
   "outputs": [],
   "source": [
    "dtime"
   ]
  },
  {
   "cell_type": "code",
   "execution_count": 9,
   "metadata": {},
   "outputs": [],
   "source": [
    "#dataset1\n",
    "MaxConcObs=200\n",
    "MaxFluxObs=1\n",
    "MaxFluxCells=0\n",
    "#dataset2\n",
    "outnam='prueba'\n",
    "inConcObs=21\n",
    "inFluxObs=22\n",
    "inSaveObs=23\n",
    "#dataset3\n",
    "Cscale=1.0\n",
    "iOutCobs=1\n",
    "iConcLOG=0\n",
    "iConcINTP=1\n",
    "#dataset4\n",
    "COBSNAM='NO3'\n",
    "layer=4\n",
    "weight=1\n",
    "iComp=1\n",
    "#transformacion coordenadas\n",
    "x0=455204.440\n",
    "y0=2110063.17+64000\n",
    "dx=2000\n",
    "dy=2000\n",
    "year_ini = 1934\n",
    "#dataset6\n",
    "nFluxGroup=1\n",
    "FScale=1\n",
    "iOutFlux=1\n",
    "#dataset7\n",
    "nFluxTimeObs=1\n",
    "ncells=0\n",
    "iSSType=2\n",
    "#dataset8\n",
    "FOBSNAM=COBSNAM\n",
    "iComp=1\n",
    "FluxTimeObs=0\n",
    "weight_fobs=1\n",
    "FluxObs=0"
   ]
  },
  {
   "cell_type": "code",
   "execution_count": 10,
   "metadata": {},
   "outputs": [],
   "source": [
    "nConcObs = dataframe['NO3'].count()"
   ]
  },
  {
   "cell_type": "code",
   "execution_count": 12,
   "metadata": {},
   "outputs": [],
   "source": [
    "geometria = pd.read_excel(Path.cwd()/'geom'/'AZMCM_geom.xlsx')\n",
    "dx = 1000\n",
    "dy = 1000\n",
    "rho = 0.1"
   ]
  },
  {
   "cell_type": "code",
   "execution_count": 13,
   "metadata": {},
   "outputs": [
    {
     "data": {
      "text/html": [
       "<div>\n",
       "<style scoped>\n",
       "    .dataframe tbody tr th:only-of-type {\n",
       "        vertical-align: middle;\n",
       "    }\n",
       "\n",
       "    .dataframe tbody tr th {\n",
       "        vertical-align: top;\n",
       "    }\n",
       "\n",
       "    .dataframe thead th {\n",
       "        text-align: right;\n",
       "    }\n",
       "</style>\n",
       "<table border=\"1\" class=\"dataframe\">\n",
       "  <thead>\n",
       "    <tr style=\"text-align: right;\">\n",
       "      <th></th>\n",
       "      <th>COLUMN</th>\n",
       "      <th>ROW</th>\n",
       "      <th>ID</th>\n",
       "      <th>MODEL_TOP</th>\n",
       "      <th>LAYER_1_BO</th>\n",
       "      <th>LAYER_2_BO</th>\n",
       "      <th>LAYER_3_BO</th>\n",
       "      <th>LAYER_4_BO</th>\n",
       "      <th>LAYER_5_BO</th>\n",
       "    </tr>\n",
       "  </thead>\n",
       "  <tbody>\n",
       "    <tr>\n",
       "      <th>0</th>\n",
       "      <td>1</td>\n",
       "      <td>1</td>\n",
       "      <td>1</td>\n",
       "      <td>2768.5</td>\n",
       "      <td>1247.8</td>\n",
       "      <td>1246.8</td>\n",
       "      <td>1245.8</td>\n",
       "      <td>1244.8</td>\n",
       "      <td>1243.8</td>\n",
       "    </tr>\n",
       "  </tbody>\n",
       "</table>\n",
       "</div>"
      ],
      "text/plain": [
       "   COLUMN  ROW  ID  MODEL_TOP  LAYER_1_BO  LAYER_2_BO  LAYER_3_BO  LAYER_4_BO  \\\n",
       "0       1    1   1     2768.5      1247.8      1246.8      1245.8      1244.8   \n",
       "\n",
       "   LAYER_5_BO  \n",
       "0      1243.8  "
      ]
     },
     "execution_count": 13,
     "metadata": {},
     "output_type": "execute_result"
    }
   ],
   "source": [
    "geometria[(geometria['COLUMN']==1) & (geometria['ROW']==1)]"
   ]
  },
  {
   "cell_type": "code",
   "execution_count": 14,
   "metadata": {},
   "outputs": [],
   "source": [
    "datos_geom = geometria[(geometria['COLUMN']==1) & (geometria['ROW']==1)]"
   ]
  },
  {
   "cell_type": "code",
   "execution_count": 15,
   "metadata": {},
   "outputs": [
    {
     "data": {
      "text/plain": [
       "1.0"
      ]
     },
     "execution_count": 15,
     "metadata": {},
     "output_type": "execute_result"
    }
   ],
   "source": [
    "datos_geom.iloc[0,4]-datos_geom.iloc[0,5]"
   ]
  },
  {
   "cell_type": "code",
   "execution_count": 21,
   "metadata": {},
   "outputs": [],
   "source": [
    "dtime = datetime.datetime.now().strftime(\"%A %d %B %Y %I:%M\")\n",
    "escritura = open(str(Path.cwd()/'salida'/outnam) +'.tob', 'w') \n",
    "header = '# TOB: Transport Observation package\\t Created on' + dtime + '\\n'\n",
    "escritura.write(header)\n",
    "\n",
    "data_set1 = f'{MaxConcObs}\\t{MaxFluxObs}\\t{MaxFluxCells} # Data Set 1: MaxConcObs, MaxFluxObs, MaxFluxCells\\n'\n",
    "escritura.write(data_set1)\n",
    "\n",
    "data_set2 = f'{outnam}\\t{inConcObs}\\t{inFluxObs}\\t{inSaveObs} # Data Set 2: OUTNAM, inConcObs, inFluxObs, inSaveObs\\n'\n",
    "escritura.write(data_set2)\n",
    "\n",
    "data_set3= f'{nConcObs}\\t{Cscale:E}\\t{iOutCobs}\\t{iConcLOG}\\t{iConcINTP}# Data Set 3: nConcObs, CScale, iOutCobs, iConcLOG, iConcINTP\\n'\n",
    "escritura.write(data_set3)\n",
    "check = dataframe['NO3'].notnull()\n",
    "\n",
    "escritura.write('# Data Set 4: COBSNAM, Layer, Row, Column, iComp, TimeObs, Roff, Coff, weight, COBS\\n')\n",
    "for fila in range(dataframe.shape[0]):\n",
    "    if check[fila]:\n",
    "        COBS = dataframe['NO3'][fila]\n",
    "        xmod = dataframe['X'][fila] - x0\n",
    "        ymod = y0 - dataframe['Y'][fila]\n",
    "        row = int(ymod//dy + 1)\n",
    "        column = int(xmod//dx + 1)\n",
    "        r_off = (ymod - row*dy)/dy\n",
    "        c_off = (xmod - column*dx)/dx\n",
    "        yr = dataframe['YR'][fila]\n",
    "        timeObs = (yr - year_ini) * 3600 * 24 * 365\n",
    "        \n",
    "        datos_geom = geometria[(geometria['COLUMN']==column) & (geometria['ROW']==row)]\n",
    "        dz = datos_geom.iloc[0,4]-datos_geom.iloc[0,5]\n",
    "        \n",
    "        COBS = dataframe['NO3'][fila] * dx * dy * dz * rho  # mg/l(1g/1000mg)(1000l/1m3) (m3) (adim) = g\n",
    "        \n",
    "        data_set4 = f'{COBSNAM}\\t{layer}\\t{row}\\t{column}\\t{iComp}  {timeObs:E}   {r_off:E}   {c_off:E}   {weight:E}   {COBS:E}\\n'#datos del pozo\n",
    "        escritura.write(data_set4)\n",
    "data_set6 = f'\\t{nFluxGroup}  {FScale:E}   {iOutFlux} # Data Set 6: nFluxGroup, FScale, iOutFlux\\n'\n",
    "escritura.write(data_set6)\n",
    "data_set7 = f'\\t{nFluxTimeObs}    {ncells}    {iSSType} # Data Set 7: nFluxTimeObs, ncells, iSSType\\n'\n",
    "escritura.write(data_set7)\n",
    "data_set8 = f'{FOBSNAM}   {iComp}   {FluxTimeObs:E}   {weight_fobs:E}   {FluxObs:E} # Data set 8: FOBSNAM, iComp, FluxTimeObs, weight_fobs, FluxObs\\n'\n",
    "escritura.write(data_set8)\n",
    "escritura.close()"
   ]
  },
  {
   "cell_type": "code",
   "execution_count": null,
   "metadata": {},
   "outputs": [],
   "source": []
  }
 ],
 "metadata": {
  "kernelspec": {
   "display_name": "Python 3",
   "language": "python",
   "name": "python3"
  },
  "language_info": {
   "codemirror_mode": {
    "name": "ipython",
    "version": 3
   },
   "file_extension": ".py",
   "mimetype": "text/x-python",
   "name": "python",
   "nbconvert_exporter": "python",
   "pygments_lexer": "ipython3",
   "version": "3.7.4"
  }
 },
 "nbformat": 4,
 "nbformat_minor": 4
}
