{
 "cells": [
  {
   "cell_type": "markdown",
   "metadata": {},
   "source": [
    "# Funciones para generar archivos para calibración.\n",
    "En este notebook de jupyter se conjuntan funciones que permiten crear diferentes tipos de ficheros a partir de archivos \n",
    "excel(xls o xlsx). Estos archivos deberán tener un formato adecuado y encontrarse en la carpeta correspondiente para el correcto funcionamiento de los códigos.\n",
    "\n",
    "### Ejecutar para importar funciones (shift+Enter)\n",
    "## 🡓"
   ]
  },
  {
   "cell_type": "code",
   "execution_count": 1,
   "metadata": {},
   "outputs": [],
   "source": [
    "from funciones import *"
   ]
  },
  {
   "cell_type": "markdown",
   "metadata": {},
   "source": [
    "___\n",
    "# nitratos2tob\n",
    "Esta función sirve para crear un archivo .tob de MT3D a partir de una base de datos en excel (xls o xlsx), donde cada archivo tendrá los datos de un año en específico.\n",
    "\n",
    "## Entrada\n",
    "\n",
    "**Base de datos**\n",
    "\n",
    "Los archivos deberán encontrarse en la carpeta asignada en el entorno (*Entorno/tob/base de datos/*). Estos archivos de excel deberán contener los encabezados **'ALCALDIA', 'POZO', 'X', 'Y', 'NO3'** en la primera fila, estos serán utilizados para importar los datos necesarios, en caso de existir datos nulos identificarlos con 'ND' o 'nd' dentro de la celda, también es posible asignar alguna indicación para valores nulos dentro de la función(*Parámetro na_val*).\n",
    "\n",
    "Es importante que el nombre de cada archivo contenga de forma numérica únicamente el año que le corresponde, ya que a partir de este nombre se extrae el año para posteriores cálculos. (*Ej, 'datos2002.xlsx', 'nitratos_1995.xls'*).\n",
    "\n",
    "**Archivo geom**\n",
    "\n",
    "Este deberá ser un único archivo de excel, ubicado dentro del directorio (*Entorno/tob/geom/*). Este se exporta a partir del modelo en Model Muse (Ver documentación general).\n",
    "\n",
    "**Parámetros Relevantes**\n",
    "\n",
    "\n",
    "- **outnam**: Nombre del archivo de salida. Default: 'prueba'\n",
    "- **rho**: Porosidad efectiva de la capa seleccionada. Default: 0.1\n",
    "- **x0**: Coordenada x correspondiente al 0 en coordenadas locales. Default: 455204.44 \n",
    "- **y0**: Coordenada y correspondiente al 0 en coordenadas locales. Default: 2174063.17\n",
    "- **dx**: Tamaño de la celda en x. Default: 2000\n",
    "- **dy**: Tamaño de la celda en y. Default: 2000\n",
    "- **year_ini**: Año inicial de las observaciones: Default: 1934\n",
    "\n",
    "## Salida\n",
    "\n",
    "El archivo de salida se creará en la carpeta *'salida'* del entorno tob (*Entorno/tob/salida/*), tendrá extensión **.tob** y nombre definido por el parámetro *outnam*.\n",
    "\n",
    "___\n",
    "# Ejecutar(shift+Enter) 🡓"
   ]
  },
  {
   "cell_type": "code",
   "execution_count": null,
   "metadata": {},
   "outputs": [],
   "source": [
    "nitratos2tob(outnam='AZMCM')"
   ]
  },
  {
   "cell_type": "markdown",
   "metadata": {},
   "source": [
    "___\n",
    "# piezometria2ob_hob\n",
    "Permite la creación de un archivo de entrada HOB (head Observation Package) de Modflow a partir de un archivo de piezometría de excel.\n",
    "\n",
    "## Entrada\n",
    "\n",
    "**Datos desde Excel**\n",
    "\n",
    "Este archivo se debe encontrar dentro del directorio de piezometría(*Entorno/ob_hob/piezometria/*). Contiene los datos del *'ID'* del pozo, coordenadas en UTM(*'X', 'Y'*), y valores de carga piezométrica en la hoja1. En caso de existir valores nulos identificarlos con 'ND' o 'nd' dentro de la celda. \n",
    "\n",
    "Las coordenadas son transformadas a coordenadas locales del modelo de MODFLOW, y se utilizan para determinar los offset y el renglón y columna a la que corresponden las observaciones. Para realizar las transformaciones es necesario agregar la información de las coordenadas UTM que corresponden al origen del modelo, así como el tamaño de las celdas (*dx, dy*).\n",
    "\n",
    "\n",
    "**Parámetros Relevantes**\n",
    "\n",
    "Las indicaciones para crear el archivo HOB, al igual que las descripciones de los parámetros están descritas en la carpeta de documentación general.\n",
    "\n",
    "- **outnam**: Nombre del archivo de salida. Default: 'output'\n",
    "- **x0**: Coordenada x correspondiente al 0 en coordenadas locales. Default: 455204.44 \n",
    "- **y0**: Coordenada y correspondiente al 0 en coordenadas locales. Default: 2174063.17\n",
    "- **dx**: Tamaño de la celda en x. Default: 2000\n",
    "- **dy**: Tamaño de la celda en y. Default: 2000\n",
    "- **year**: Año inicial de las observaciones: Default: 1934\n",
    "\n",
    "## Salida\n",
    "\n",
    "El archivo de salida se creará en la carpeta *'salida'* del entorno ob_hob (*Entorno/ob_hob/salida/*), tendrá extensión **.ob_hob** y nombre definido por el parámetro *outnam*.\n",
    "\n",
    "___\n",
    "# Ejecutar(shift+Enter) 🡓"
   ]
  },
  {
   "cell_type": "code",
   "execution_count": null,
   "metadata": {},
   "outputs": [],
   "source": [
    "piezometria2ob_hob(rename=True)"
   ]
  },
  {
   "cell_type": "markdown",
   "metadata": {},
   "source": [
    "\n",
    "# pesos\n",
    "Función para crear un fichero **.txt** con la informacion de los pesos de las observaciones de carga y abatimiento para calibrar en UCODE. Permite cargar o calcular los datos a partir de un archivo de excel utilizando la función mk_pfile.\n",
    "\n",
    "## Entrada\n",
    "\n",
    "**Excel para cargar datos**\n",
    "\n",
    "Este archivo se debe localizar dentro del directorio de datos completos(*Entorno/pesos/datos/completo/*). Contiene los datos de piezometría (*'ID'* del pozo, coordenadas en UTM(*'X', 'Y'*), y valores de carga piezométrica) que deben ubicarse en la **antepenúltima** hoja del documento. \n",
    "\n",
    "También contiene el cálculo de los pesos para las cargas hidráulicas, los mantienen un formato similar a la hoja que contiene los datos de piezometría, con la diferencia que en el lugar de las cargas se encuentran los pesos calculados, pero conserva el *'ID'* del pozo y las coordenadas en UTM(*'X', 'Y'*). Estos pesos deben localizarse en la **penúltima** hoja del documento.\n",
    "\n",
    "En la **última** hoja se deben encontrar los pesos calculados para los abatimientos, con el mismo formato que la hoja que contiene los pesos para las cargas.\n",
    "\n",
    "**Parámetros**\n",
    "- nombre: Nombre del archivo de salida. Default: 'pesos'.\n",
    "- calcular: Define si se cargarán los datos calculados o se realizarán los cálculos. Default: False.\n",
    "\n",
    "## Salida\n",
    "\n",
    "El archivo de salida se creará en la carpeta *'salida'* del entorno pesos (*Entorno\\pesos\\salida*), tendrá extensión **.txt** y nombre definido por el parámetro *nombre*.\n",
    "\n",
    "___\n",
    "# Ejecutar(shift+Enter) 🡓"
   ]
  },
  {
   "cell_type": "code",
   "execution_count": 2,
   "metadata": {},
   "outputs": [
    {
     "name": "stdout",
     "output_type": "stream",
     "text": [
      "Leyendo datos...\n",
      "Calculando SD1...\n",
      "Calculando SD2...\n",
      "Calculando SD3...\n",
      "Calculando SD4...\n",
      "Calculando SD5...\n",
      "Calculando suma sd carga...\n",
      "Calculando suma sd abatimiento...\n",
      "Creando archivo: nombre.txt\n",
      "Finalizado: archivo exportado en C:\\Users\\jor_a\\Documents\\modelovmexico\\Codigo\\Entorno\\pesos\\salida\\nombre.txt\n",
      "Archivo de Excel exportado en C:\\Users\\jor_a\\Documents\\modelovmexico\\Codigo\\Entorno\\pesos\\salida\\datos_completo.xlsx\n"
     ]
    }
   ],
   "source": [
    "pesos('nombre', calcular=True, rename=True)"
   ]
  },
  {
   "cell_type": "markdown",
   "metadata": {},
   "source": [
    "Creado por: Jorge Antonio Matías López\n",
    "\n",
    "Contacto: jor_am07@hotmail.com"
   ]
  },
  {
   "cell_type": "code",
   "execution_count": null,
   "metadata": {},
   "outputs": [],
   "source": []
  }
 ],
 "metadata": {
  "kernelspec": {
   "display_name": "Python 3",
   "language": "python",
   "name": "python3"
  },
  "language_info": {
   "codemirror_mode": {
    "name": "ipython",
    "version": 3
   },
   "file_extension": ".py",
   "mimetype": "text/x-python",
   "name": "python",
   "nbconvert_exporter": "python",
   "pygments_lexer": "ipython3",
   "version": "3.8.3"
  }
 },
 "nbformat": 4,
 "nbformat_minor": 4
}
